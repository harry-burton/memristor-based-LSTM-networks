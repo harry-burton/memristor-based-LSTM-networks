{
 "cells": [
  {
   "cell_type": "code",
   "execution_count": 1,
   "metadata": {},
   "outputs": [],
   "source": [
    "import numpy as np\n",
    "import matplotlib.pyplot as plt\n",
    "import math\n",
    "import pandas as pd\n",
    "import scipy as scs"
   ]
  },
  {
   "cell_type": "code",
   "execution_count": 2,
   "metadata": {},
   "outputs": [],
   "source": [
    "def SPICEfileReader (filetoread,columns):\n",
    "    'reads LTSpice files, needs '' over the file name and the number of columns in the file'\n",
    "    f=open(filetoread,'r')#opens the file\n",
    "    dum = f.readlines()[1:]#reads the data, but skips the first line as they are column titles \n",
    "    f.close()#closes the file\n",
    "    data=[]#empty array for the data later\n",
    "    for i in dum: #goes through all the data\n",
    "        dum1=i.split('\\t')#splits the data at every column, making rows\n",
    "        for j in dum1:#goes through each of these rows\n",
    "            data.append(float(j.split('\\n')[0]))#splits the data at the end point, and gets rid of the new row command from the data\n",
    "    rows=int(len(data)/columns)#caluclates how many rows there are\n",
    "    out=np.reshape(data,(rows,columns))#re-shapes the data into a useable format\n",
    "    return(out)#returns the data\n",
    "file_path = 'D:\\\\harry\\\\PhD Work\\\\Project_Michael\\\\Data\\\\HP Memristor example 1hz ron10k roff100k xinit 0.9 d27nm'\n",
    "data = SPICEfileReader(file_path,3)\n",
    "st = data[:,0]\n",
    "sv = data[:,1]\n",
    "si = data[:,2]"
   ]
  },
  {
   "cell_type": "code",
   "execution_count": 7,
   "metadata": {},
   "outputs": [],
   "source": [
    "def vteam_optim_pro(v,w,koff,kon):\n",
    "    'Memristor model based on the VTEAM model, input paramaters are'\n",
    "\n",
    "    voff = 0.1\n",
    "    von = -0.1\n",
    "    roff = 100e3\n",
    "    ron = 10e3\n",
    "    woff = 27e-9\n",
    "    won = 0\n",
    "    p = 2\n",
    "    j = 4\n",
    "    aon = 2\n",
    "    aoff = 2\n",
    "    dt=0.01024\n",
    "    def prodromakis(x,p,j):\n",
    "        dum=(x-0.5)**2\n",
    "        dum1=(dum+0.75)**p\n",
    "        return(j*(1-dum1))\n",
    "\n",
    "    def dw(v,koff,kon,aoff,aon,voff,von,woff,won,w,p,j,dt):\n",
    "        x = w / (woff-won) \n",
    "        if 0<voff<v:\n",
    "            dum = koff*(((v/voff)-1)**aoff)\n",
    "            func = prodromakis(x,p,j)\n",
    "            return(dum*func*dt)\n",
    "\n",
    "\n",
    "        if von<v<voff:\n",
    "            return(0)\n",
    "\n",
    "        if v<von<0:\n",
    "            dum = kon*(((v/von)-1)**aon)\n",
    "            func = prodromakis(x,p,j)\n",
    "            return(dum*func*dt)\n",
    "\n",
    "        else: \n",
    "            return(0)\n",
    "\n",
    "    def  linear(roff,ron,woff,won,v,w):\n",
    "        dum = (roff-ron)/(woff-won)\n",
    "        dum1 = ((dum * (w-won))+ron)**(-1)\n",
    "        return((dum1*v))\n",
    "\n",
    "\n",
    "    out=[]\n",
    "    boundarypos=[]\n",
    "    test = []\n",
    "    rel = linear\n",
    "    for k in range(len(v)):\n",
    "        if k!=0:\n",
    "            change=dw(v[k],koff,kon,aoff,aon,voff,von,woff,won,w,p,j,dt)\n",
    "            w=w+change\n",
    "            out.append(rel(roff,ron,woff,won,v[k],w))\n",
    "        else:\n",
    "            out.append(rel(roff,ron,woff,won,v[k],w))\n",
    "    return(out)"
   ]
  },
  {
   "cell_type": "code",
   "execution_count": 6,
   "metadata": {
    "collapsed": true
   },
   "outputs": [
    {
     "name": "stdout",
     "output_type": "stream",
     "text": [
      "0.01006310719926526\n",
      "0.010239999999999588\n",
      "0.010239999999999583\n",
      "0.010240000000002886\n",
      "0.010240000000003142\n",
      "0.010240000000003142\n",
      "0.010239999999996884\n",
      "0.01023999999999603\n",
      "0.01023999999999603\n",
      "0.010239999999996058\n",
      "0.010239999999996002\n",
      "0.010239999999995988\n",
      "0.010240000000007105\n",
      "0.010240000000010213\n",
      "0.010240000000010296\n",
      "0.010240000000010185\n",
      "0.010240000000010296\n",
      "0.010240000000010213\n",
      "0.010240000000010185\n",
      "0.010240000000010324\n",
      "0.010240000000010185\n",
      "0.010240000000010296\n",
      "0.010240000000010213\n",
      "0.010240000000010296\n",
      "0.010240000000010213\n",
      "0.010240000000010185\n",
      "0.010240000000010185\n",
      "0.010240000000010296\n",
      "0.010240000000010241\n",
      "0.010240000000010296\n",
      "0.010240000000010185\n",
      "0.010240000000010296\n",
      "0.010240000000010185\n",
      "0.010240000000010185\n",
      "0.010240000000010352\n",
      "0.010240000000010185\n",
      "0.010240000000010296\n",
      "0.010240000000010185\n",
      "0.010240000000010185\n",
      "0.010240000000010296\n",
      "0.010240000000010241\n",
      "0.010240000000010296\n",
      "0.010240000000010185\n",
      "0.010240000000010185\n",
      "0.010240000000010296\n",
      "0.010240000000010241\n",
      "0.010240000000010296\n",
      "0.010240000000010185\n",
      "0.010240000000001415\n",
      "0.010239999999953397\n",
      "0.010239999999953397\n",
      "0.010239999999953397\n",
      "0.010239999999953397\n",
      "0.010239999999953397\n",
      "0.010239999999953397\n",
      "0.010239999999953397\n",
      "0.010239999999953397\n",
      "0.010239999999953397\n",
      "0.010239999999953397\n",
      "0.010239999999953397\n",
      "0.010239999999953397\n",
      "0.010239999999953397\n",
      "0.010239999999953397\n",
      "0.010239999999953397\n",
      "0.010239999999953397\n",
      "0.010239999999953397\n",
      "0.010239999999953397\n",
      "0.010239999999953397\n",
      "0.010239999999953397\n",
      "0.010239999999953397\n",
      "0.010239999999953397\n",
      "0.010239999999953397\n",
      "0.010239999999953397\n",
      "0.010239999999953397\n",
      "0.010239999999953397\n",
      "0.010239999999953397\n",
      "0.010239999999953397\n",
      "0.010239999999953397\n",
      "0.010239999999953397\n",
      "0.010239999999953397\n",
      "0.010239999999953397\n",
      "0.010239999999953397\n",
      "0.010239999999953397\n",
      "0.010239999999953397\n",
      "0.010239999999953397\n",
      "0.010239999999953397\n",
      "0.010239999999953397\n",
      "0.010239999999953397\n",
      "0.010239999999953397\n",
      "0.010239999999953397\n",
      "0.010239999999953397\n",
      "0.010239999999953397\n",
      "0.010239999999953397\n",
      "0.010239999999953397\n",
      "0.010239999999953397\n",
      "0.010239999999953397\n",
      "0.010239999999953397\n",
      "0.006889999999968643\n",
      "6.892802650759755e-06\n"
     ]
    }
   ],
   "source": [
    "for i in range(len(st)):\n",
    "    if i != 0:\n",
    "        print(st[i]-st[i-1])"
   ]
  },
  {
   "cell_type": "markdown",
   "metadata": {},
   "source": [
    "Above is used to find the timesteps used by LTSpice, not all the time steps are the same but they are mostly around 0.01024"
   ]
  },
  {
   "cell_type": "code",
   "execution_count": 44,
   "metadata": {},
   "outputs": [
    {
     "name": "stderr",
     "output_type": "stream",
     "text": [
      "<ipython-input-7-d098b7224b39>:16: RuntimeWarning: overflow encountered in double_scalars\n",
      "  dum=(x-0.5)**2\n",
      "<ipython-input-7-d098b7224b39>:17: RuntimeWarning: overflow encountered in double_scalars\n",
      "  dum1=(dum+0.75)**p\n",
      "<ipython-input-7-d098b7224b39>:41: RuntimeWarning: overflow encountered in double_scalars\n",
      "  dum1 = ((dum * (w-won))+ron)**(-1)\n",
      "<ipython-input-7-d098b7224b39>:52: RuntimeWarning: invalid value encountered in double_scalars\n",
      "  w=w+change\n",
      "<ipython-input-7-d098b7224b39>:21: RuntimeWarning: overflow encountered in double_scalars\n",
      "  x = w / (woff-won)\n",
      "<ipython-input-7-d098b7224b39>:18: RuntimeWarning: overflow encountered in double_scalars\n",
      "  return(j*(1-dum1))\n"
     ]
    }
   ],
   "source": [
    "t=st\n",
    "f=1\n",
    "vamp=1\n",
    "v=(vamp*np.sin(2*math.pi*f*st))\n",
    "koff = 0.75e-8\n",
    "kon = -0.75e-8\n",
    "w = 2e-9\n",
    "koff=np.linspace(0,1e-6,10000)\n",
    "\n",
    "error=[]\n",
    "for i in range(len(koff)):\n",
    "    current = vteam_optim_pro(v,w,koff[i],kon)\n",
    "    dum=[]\n",
    "    for j in range(len(current)):\n",
    "        dum.append((current[j]-si[j])**2)\n",
    "    count = 0\n",
    "    for k in range(len(dum)):\n",
    "        count=count+dum[k]\n",
    "    n = 1/len(dum)\n",
    "    error.append(np.sqrt(n*count))"
   ]
  },
  {
   "cell_type": "code",
   "execution_count": 45,
   "metadata": {},
   "outputs": [
    {
     "name": "stdout",
     "output_type": "stream",
     "text": [
      "The minimum error was at 3.3003300330033003e-09\n"
     ]
    },
    {
     "data": {
      "image/png": "[encoded data removed]",
      "text/plain": [
       "<Figure size 432x288 with 1 Axes>"
      ]
     },
     "metadata": {
      "needs_background": "light"
     },
     "output_type": "display_data"
    }
   ],
   "source": [
    "plt.plot(koff,error)\n",
    "minerror = min(error)\n",
    "for i in range(len(error)):\n",
    "    if error[i] == minerror:\n",
    "        x = koff[i]\n",
    "print('The minimum error was at ' + str(x))"
   ]
  },
  {
   "cell_type": "code",
   "execution_count": null,
   "metadata": {},
   "outputs": [],
   "source": []
  }
 ],
 "metadata": {
  "kernelspec": {
   "display_name": "Python 3 (ipykernel)",
   "language": "python",
   "name": "python3"
  },
  "language_info": {
   "codemirror_mode": {
    "name": "ipython",
    "version": 3
   },
   "file_extension": ".py",
   "mimetype": "text/x-python",
   "name": "python",
   "nbconvert_exporter": "python",
   "pygments_lexer": "ipython3",
   "version": "3.9.7"
  }
 },
 "nbformat": 4,
 "nbformat_minor": 4
}
